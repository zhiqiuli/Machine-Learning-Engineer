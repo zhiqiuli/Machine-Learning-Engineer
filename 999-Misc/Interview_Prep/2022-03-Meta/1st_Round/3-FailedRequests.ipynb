{
 "cells": [
  {
   "cell_type": "code",
   "execution_count": 1,
   "id": "0e00b6e9",
   "metadata": {},
   "outputs": [],
   "source": [
    "import pandas as pd\n",
    "table1 = pd.read_csv('3-Table1.csv')\n",
    "table2 = pd.read_csv('3-Table2.csv')"
   ]
  },
  {
   "cell_type": "code",
   "execution_count": 2,
   "id": "6ecd7285",
   "metadata": {},
   "outputs": [
    {
     "name": "stdout",
     "output_type": "stream",
     "text": [
      "    userid  timestamp data_center  success\n",
      "0    10032          0           A        0\n",
      "1    10032          1           A        0\n",
      "2    10032          2           B        1\n",
      "3    10032          3           B        0\n",
      "4    10032          4           B        0\n",
      "5    10033          4           A        1\n",
      "6    10033          5           A        1\n",
      "7    10033          6           C        0\n",
      "8    10033          7           C        1\n",
      "9    10033          8           C        1\n",
      "10   10034          9           A        1\n",
      "11   10034         10           A        1\n",
      "12   10035         11           B        1\n",
      "13   10035         12           C        1\n",
      "14   10035         13           D        1\n"
     ]
    }
   ],
   "source": [
    "print(table1)"
   ]
  },
  {
   "cell_type": "code",
   "execution_count": 3,
   "id": "95b44b31",
   "metadata": {},
   "outputs": [
    {
     "name": "stdout",
     "output_type": "stream",
     "text": [
      "   userid country\n",
      "0   10032      US\n",
      "1   10033      UK\n",
      "2   10034      UK\n",
      "3   10035     CHN\n"
     ]
    }
   ],
   "source": [
    "print(table2)"
   ]
  },
  {
   "cell_type": "code",
   "execution_count": 4,
   "id": "85dde2ab",
   "metadata": {},
   "outputs": [
    {
     "name": "stdout",
     "output_type": "stream",
     "text": [
      "    userid  timestamp data_center  success country  fail\n",
      "0    10032          0           A        0      US     1\n",
      "1    10032          1           A        0      US     1\n",
      "2    10032          2           B        1      US     0\n",
      "3    10032          3           B        0      US     1\n",
      "4    10032          4           B        0      US     1\n",
      "5    10033          4           A        1      UK     0\n",
      "6    10033          5           A        1      UK     0\n",
      "7    10033          6           C        0      UK     1\n",
      "8    10033          7           C        1      UK     0\n",
      "9    10033          8           C        1      UK     0\n",
      "10   10034          9           A        1      UK     0\n",
      "11   10034         10           A        1      UK     0\n",
      "12   10035         11           B        1     CHN     0\n",
      "13   10035         12           C        1     CHN     0\n",
      "14   10035         13           D        1     CHN     0\n"
     ]
    }
   ],
   "source": [
    "table_master = pd.merge(table1, table2, on='userid')\n",
    "table_master['fail'] = table_master.apply(lambda x : 1 if x['success'] == 0 else 0, axis=1)\n",
    "\n",
    "print(table_master)"
   ]
  },
  {
   "cell_type": "code",
   "execution_count": null,
   "id": "b9418ce2",
   "metadata": {},
   "outputs": [],
   "source": []
  },
  {
   "cell_type": "code",
   "execution_count": 5,
   "id": "199aae10",
   "metadata": {},
   "outputs": [
    {
     "data": {
      "text/plain": [
       "data_center\n",
       "A    0.333333\n",
       "B    0.500000\n",
       "C    0.250000\n",
       "D    0.000000\n",
       "Name: fail, dtype: float64"
      ]
     },
     "execution_count": 5,
     "metadata": {},
     "output_type": "execute_result"
    }
   ],
   "source": [
    "# Q1. 求每个 data center，request fail的比例\n",
    "table_master.groupby('data_center')['fail'].sum() / table_master.groupby('data_center')['fail'].count()"
   ]
  },
  {
   "cell_type": "code",
   "execution_count": 6,
   "id": "ea6d6f6e",
   "metadata": {},
   "outputs": [
    {
     "data": {
      "text/plain": [
       "country\n",
       "CHN    0.000000\n",
       "UK     0.142857\n",
       "US     0.800000\n",
       "Name: fail, dtype: float64"
      ]
     },
     "execution_count": 6,
     "metadata": {},
     "output_type": "execute_result"
    }
   ],
   "source": [
    "# Q2. 求每个国家，request fail的\n",
    "table_master.groupby('country')['fail'].sum() / table_master.groupby('country')['fail'].count()"
   ]
  },
  {
   "cell_type": "code",
   "execution_count": 7,
   "id": "84f5effa",
   "metadata": {},
   "outputs": [
    {
     "name": "stdout",
     "output_type": "stream",
     "text": [
      "country\n",
      "CHN    1\n",
      "UK     1\n",
      "Name: userid, dtype: int64\n"
     ]
    }
   ],
   "source": [
    "# Q3. 求每个国家，有多少个user发出的好友请求从来没有fail过\n",
    "failed_user_ids = table_master[table_master['fail'] == 1]['userid'].unique() # 先找出fail过的userid\n",
    "table = table_master[~table_master['userid'].isin(failed_user_ids)].groupby('country')['userid'].nunique()\n",
    "print(table)"
   ]
  },
  {
   "cell_type": "code",
   "execution_count": 8,
   "id": "becc9f21",
   "metadata": {},
   "outputs": [
    {
     "data": {
      "text/plain": [
       "country\n",
       "CHN    1\n",
       "UK     1\n",
       "Name: userid, dtype: int64"
      ]
     },
     "execution_count": 8,
     "metadata": {},
     "output_type": "execute_result"
    }
   ],
   "source": [
    "table_master[~table_master['userid'].isin(failed_user_ids)].groupby('country')['userid'].nunique()"
   ]
  },
  {
   "cell_type": "code",
   "execution_count": null,
   "id": "0506317b",
   "metadata": {},
   "outputs": [],
   "source": []
  },
  {
   "cell_type": "code",
   "execution_count": null,
   "id": "0e61f7ef",
   "metadata": {},
   "outputs": [],
   "source": []
  },
  {
   "cell_type": "code",
   "execution_count": 9,
   "id": "571b819b",
   "metadata": {},
   "outputs": [],
   "source": [
    "failed_user_ids = table_master[table_master['fail'] == 1]['userid'].unique() # 先找出fail过的userid"
   ]
  },
  {
   "cell_type": "code",
   "execution_count": 10,
   "id": "74cd441f",
   "metadata": {},
   "outputs": [
    {
     "name": "stdout",
     "output_type": "stream",
     "text": [
      "US 0\n",
      "UK 1\n",
      "CHN 1\n"
     ]
    }
   ],
   "source": [
    "for country in table_master['country'].unique():\n",
    "    # dataframe 'and' condition 是用&并且加上括号\n",
    "    print(country, table_master[(table_master['country'] == country) & (~table_master['userid'].isin(failed_user_ids))]['userid'].nunique())"
   ]
  },
  {
   "cell_type": "code",
   "execution_count": null,
   "id": "02b46a56",
   "metadata": {},
   "outputs": [],
   "source": []
  }
 ],
 "metadata": {
  "kernelspec": {
   "display_name": "Python 3",
   "language": "python",
   "name": "python3"
  },
  "language_info": {
   "codemirror_mode": {
    "name": "ipython",
    "version": 3
   },
   "file_extension": ".py",
   "mimetype": "text/x-python",
   "name": "python",
   "nbconvert_exporter": "python",
   "pygments_lexer": "ipython3",
   "version": "3.8.8"
  }
 },
 "nbformat": 4,
 "nbformat_minor": 5
}
