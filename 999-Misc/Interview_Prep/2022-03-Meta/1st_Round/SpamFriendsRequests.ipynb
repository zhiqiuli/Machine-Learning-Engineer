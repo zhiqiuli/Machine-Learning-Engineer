{
 "cells": [
  {
   "cell_type": "code",
   "execution_count": 1,
   "id": "b3dd5016",
   "metadata": {},
   "outputs": [],
   "source": [
    "import pandas as pd\n",
    "df_1 = pd.read_csv('SpamFriendsRequests_1.csv')\n",
    "df_2 = pd.read_csv('SpamFriendsRequests_2.csv')\n",
    "\n",
    "from datetime import datetime, timedelta"
   ]
  },
  {
   "cell_type": "code",
   "execution_count": 2,
   "id": "12295e99",
   "metadata": {},
   "outputs": [],
   "source": [
    "# Find all the same day requests\n",
    "df_1['same_day'] = df_1.apply(lambda x: 1 if x['send_time'] == x['accept_time'] else 0, axis = 1)"
   ]
  },
  {
   "cell_type": "code",
   "execution_count": 3,
   "id": "6092c86f",
   "metadata": {},
   "outputs": [],
   "source": [
    "# Convert the format to datetime format\n",
    "df_1['send_time_new'] = df_1.apply(lambda x: datetime.strptime(x['send_time'], '%Y-%m-%d'), axis = 1)"
   ]
  },
  {
   "cell_type": "code",
   "execution_count": 4,
   "id": "1eafc301",
   "metadata": {},
   "outputs": [
    {
     "name": "stdout",
     "output_type": "stream",
     "text": [
      "  sender_id receiver_id send_time accept_time  same_day send_time_new\n",
      "0         a           b  2022-4-8    2022-4-9         0    2022-04-08\n",
      "1         a           d  2022-4-6    2022-4-9         0    2022-04-06\n",
      "2         e           f  2022-4-6    2022-4-9         0    2022-04-06\n",
      "3         c           f  2022-4-9    2022-4-9         1    2022-04-09\n",
      "4         e           a  2022-4-8    2022-4-8         1    2022-04-08\n"
     ]
    }
   ],
   "source": [
    "# Cutoff the date to previous 7 days\n",
    "cutoff_date = datetime.strptime('2022-4-9', '%Y-%m-%d') - timedelta(days=7)\n",
    "df_1 = df_1[df_1['send_time_new'] >= cutoff_date]\n",
    "print(df_1)"
   ]
  },
  {
   "cell_type": "code",
   "execution_count": 5,
   "id": "a959185d",
   "metadata": {},
   "outputs": [
    {
     "data": {
      "text/plain": [
       "send_time\n",
       "2022-4-6    0.0\n",
       "2022-4-8    0.5\n",
       "2022-4-9    1.0\n",
       "Name: same_day, dtype: float64"
      ]
     },
     "execution_count": 5,
     "metadata": {},
     "output_type": "execute_result"
    }
   ],
   "source": [
    "# Question 1.上周每一天的 same day accept rate\n",
    "group1 = df_1.groupby('send_time')\n",
    "group1['same_day'].sum() / group1['same_day'].count()"
   ]
  },
  {
   "cell_type": "code",
   "execution_count": 6,
   "id": "4446d221",
   "metadata": {},
   "outputs": [],
   "source": [
    "df_master = pd.merge(df_1, df_2, how='left', left_on='sender_id', right_on='user_id')"
   ]
  },
  {
   "cell_type": "code",
   "execution_count": 7,
   "id": "d92ba8c9",
   "metadata": {},
   "outputs": [
    {
     "name": "stdout",
     "output_type": "stream",
     "text": [
      "  sender_id receiver_id send_time accept_time  same_day send_time_new user_id  \\\n",
      "0         a           b  2022-4-8    2022-4-9         0    2022-04-08       a   \n",
      "1         a           d  2022-4-6    2022-4-9         0    2022-04-06       a   \n",
      "2         e           f  2022-4-6    2022-4-9         0    2022-04-06       e   \n",
      "3         c           f  2022-4-9    2022-4-9         1    2022-04-09       c   \n",
      "4         e           a  2022-4-8    2022-4-8         1    2022-04-08       e   \n",
      "\n",
      "   spam_type  \n",
      "0          1  \n",
      "1          1  \n",
      "2          0  \n",
      "3          0  \n",
      "4          0  \n"
     ]
    }
   ],
   "source": [
    "print(df_master)"
   ]
  },
  {
   "cell_type": "code",
   "execution_count": 8,
   "id": "3fa0c654",
   "metadata": {},
   "outputs": [
    {
     "data": {
      "text/plain": [
       "0.6"
      ]
     },
     "execution_count": 8,
     "metadata": {},
     "output_type": "execute_result"
    }
   ],
   "source": [
    "# Question 2.上周所有的 request 里，不是由 spam 用户发出的比例\n",
    "df_master[df_master['spam_type'] == 0].shape[0] / df_master.shape[0]"
   ]
  }
 ],
 "metadata": {
  "kernelspec": {
   "display_name": "Python 3",
   "language": "python",
   "name": "python3"
  },
  "language_info": {
   "codemirror_mode": {
    "name": "ipython",
    "version": 3
   },
   "file_extension": ".py",
   "mimetype": "text/x-python",
   "name": "python",
   "nbconvert_exporter": "python",
   "pygments_lexer": "ipython3",
   "version": "3.8.8"
  }
 },
 "nbformat": 4,
 "nbformat_minor": 5
}
