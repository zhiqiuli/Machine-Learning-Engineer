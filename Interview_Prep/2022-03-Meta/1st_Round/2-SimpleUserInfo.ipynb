{
 "cells": [
  {
   "cell_type": "code",
   "execution_count": 1,
   "id": "85abd73c",
   "metadata": {},
   "outputs": [],
   "source": [
    "import pandas as pd\n",
    "df1 = pd.read_csv('2-Username.csv')\n",
    "df2 = pd.read_csv('2-Userid.csv')"
   ]
  },
  {
   "cell_type": "code",
   "execution_count": 2,
   "id": "1d244690",
   "metadata": {},
   "outputs": [
    {
     "name": "stdout",
     "output_type": "stream",
     "text": [
      "   userid      name\n",
      "0     111    'mark'\n",
      "1     444    'mark'\n",
      "2     222    'mark'\n",
      "3     333  'sourav'\n",
      "4     555  'sheryl'\n"
     ]
    }
   ],
   "source": [
    "print(df1)"
   ]
  },
  {
   "cell_type": "code",
   "execution_count": 3,
   "id": "c4299e39",
   "metadata": {},
   "outputs": [
    {
     "name": "stdout",
     "output_type": "stream",
     "text": [
      "   userid  age   country\n",
      "0     111   47   'India'\n",
      "1     222   45   'India'\n",
      "2     333   23   'Italy'\n",
      "3     444   47   'Italy'\n",
      "4     555   28  'Canada'\n"
     ]
    }
   ],
   "source": [
    "print(df2)"
   ]
  },
  {
   "cell_type": "code",
   "execution_count": 16,
   "id": "830d9f85",
   "metadata": {},
   "outputs": [],
   "source": [
    "group1_mean = df2.groupby('country').mean()"
   ]
  },
  {
   "cell_type": "code",
   "execution_count": 19,
   "id": "8cecf11a",
   "metadata": {},
   "outputs": [
    {
     "data": {
      "text/html": [
       "<div>\n",
       "<style scoped>\n",
       "    .dataframe tbody tr th:only-of-type {\n",
       "        vertical-align: middle;\n",
       "    }\n",
       "\n",
       "    .dataframe tbody tr th {\n",
       "        vertical-align: top;\n",
       "    }\n",
       "\n",
       "    .dataframe thead th {\n",
       "        text-align: right;\n",
       "    }\n",
       "</style>\n",
       "<table border=\"1\" class=\"dataframe\">\n",
       "  <thead>\n",
       "    <tr style=\"text-align: right;\">\n",
       "      <th></th>\n",
       "      <th>userid</th>\n",
       "      <th>age</th>\n",
       "    </tr>\n",
       "    <tr>\n",
       "      <th>country</th>\n",
       "      <th></th>\n",
       "      <th></th>\n",
       "    </tr>\n",
       "  </thead>\n",
       "  <tbody>\n",
       "    <tr>\n",
       "      <th>'India'</th>\n",
       "      <td>166.5</td>\n",
       "      <td>46.0</td>\n",
       "    </tr>\n",
       "  </tbody>\n",
       "</table>\n",
       "</div>"
      ],
      "text/plain": [
       "         userid   age\n",
       "country              \n",
       "'India'   166.5  46.0"
      ]
     },
     "execution_count": 19,
     "metadata": {},
     "output_type": "execute_result"
    }
   ],
   "source": [
    "# Question 1. Select all countries with average age > 45\n",
    "group1[group1['age'] >= 45]"
   ]
  },
  {
   "cell_type": "code",
   "execution_count": 20,
   "id": "1b157dfc",
   "metadata": {},
   "outputs": [],
   "source": [
    "group2_count = df1.groupby('name').count()"
   ]
  },
  {
   "cell_type": "code",
   "execution_count": 21,
   "id": "1bf7bac5",
   "metadata": {},
   "outputs": [
    {
     "name": "stdout",
     "output_type": "stream",
     "text": [
      "          userid\n",
      "name            \n",
      "'mark'         3\n",
      "'sheryl'       1\n",
      "'sourav'       1\n"
     ]
    }
   ],
   "source": [
    "print(group2_count)"
   ]
  },
  {
   "cell_type": "code",
   "execution_count": 22,
   "id": "df4128b4",
   "metadata": {},
   "outputs": [
    {
     "data": {
      "text/html": [
       "<div>\n",
       "<style scoped>\n",
       "    .dataframe tbody tr th:only-of-type {\n",
       "        vertical-align: middle;\n",
       "    }\n",
       "\n",
       "    .dataframe tbody tr th {\n",
       "        vertical-align: top;\n",
       "    }\n",
       "\n",
       "    .dataframe thead th {\n",
       "        text-align: right;\n",
       "    }\n",
       "</style>\n",
       "<table border=\"1\" class=\"dataframe\">\n",
       "  <thead>\n",
       "    <tr style=\"text-align: right;\">\n",
       "      <th></th>\n",
       "      <th>userid</th>\n",
       "    </tr>\n",
       "    <tr>\n",
       "      <th>name</th>\n",
       "      <th></th>\n",
       "    </tr>\n",
       "  </thead>\n",
       "  <tbody>\n",
       "    <tr>\n",
       "      <th>'sheryl'</th>\n",
       "      <td>1</td>\n",
       "    </tr>\n",
       "    <tr>\n",
       "      <th>'sourav'</th>\n",
       "      <td>1</td>\n",
       "    </tr>\n",
       "  </tbody>\n",
       "</table>\n",
       "</div>"
      ],
      "text/plain": [
       "          userid\n",
       "name            \n",
       "'sheryl'       1\n",
       "'sourav'       1"
      ]
     },
     "execution_count": 22,
     "metadata": {},
     "output_type": "execute_result"
    }
   ],
   "source": [
    "# Question 2. Find all userids whose names are unique, i.e. there is no other userid with the same name.\n",
    "group2_count[group2_count['userid'] == 1]"
   ]
  }
 ],
 "metadata": {
  "kernelspec": {
   "display_name": "Python 3",
   "language": "python",
   "name": "python3"
  },
  "language_info": {
   "codemirror_mode": {
    "name": "ipython",
    "version": 3
   },
   "file_extension": ".py",
   "mimetype": "text/x-python",
   "name": "python",
   "nbconvert_exporter": "python",
   "pygments_lexer": "ipython3",
   "version": "3.8.8"
  }
 },
 "nbformat": 4,
 "nbformat_minor": 5
}
