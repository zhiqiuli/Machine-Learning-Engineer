{
 "cells": [
  {
   "cell_type": "code",
   "execution_count": 1,
   "id": "248c544e",
   "metadata": {},
   "outputs": [],
   "source": [
    "import pandas as pd\n",
    "import numpy as np\n",
    "df = pd.read_csv('rotten_tomatoes_movies.csv')"
   ]
  },
  {
   "cell_type": "code",
   "execution_count": 2,
   "id": "1fc54566",
   "metadata": {},
   "outputs": [
    {
     "data": {
      "text/html": [
       "<div>\n",
       "<style scoped>\n",
       "    .dataframe tbody tr th:only-of-type {\n",
       "        vertical-align: middle;\n",
       "    }\n",
       "\n",
       "    .dataframe tbody tr th {\n",
       "        vertical-align: top;\n",
       "    }\n",
       "\n",
       "    .dataframe thead th {\n",
       "        text-align: right;\n",
       "    }\n",
       "</style>\n",
       "<table border=\"1\" class=\"dataframe\">\n",
       "  <thead>\n",
       "    <tr style=\"text-align: right;\">\n",
       "      <th></th>\n",
       "      <th>rotten_tomatoes_link</th>\n",
       "      <th>movie_title</th>\n",
       "      <th>movie_info</th>\n",
       "      <th>critics_consensus</th>\n",
       "      <th>poster_image_url</th>\n",
       "      <th>rating</th>\n",
       "      <th>genre</th>\n",
       "      <th>directors</th>\n",
       "      <th>writers</th>\n",
       "      <th>cast</th>\n",
       "      <th>...</th>\n",
       "      <th>studio_name</th>\n",
       "      <th>tomatometer_status</th>\n",
       "      <th>tomatometer_rating</th>\n",
       "      <th>tomatometer_count</th>\n",
       "      <th>audience_status</th>\n",
       "      <th>audience_rating</th>\n",
       "      <th>audience_count</th>\n",
       "      <th>audience_top_critics_count</th>\n",
       "      <th>audience_fresh_critics_count</th>\n",
       "      <th>audience_rotten_critics_count</th>\n",
       "    </tr>\n",
       "  </thead>\n",
       "  <tbody>\n",
       "    <tr>\n",
       "      <th>0</th>\n",
       "      <td>/m/the_freshman</td>\n",
       "      <td>The Freshman (College Days)</td>\n",
       "      <td>One of Harold Lloyd's best feature-length come...</td>\n",
       "      <td>NaN</td>\n",
       "      <td>https://resizing.flixster.com/UPJ5dR_5-Crx4XEQ...</td>\n",
       "      <td>NR</td>\n",
       "      <td>Classics, Comedy</td>\n",
       "      <td>Fred Newmeyer, Sam Taylor</td>\n",
       "      <td>Ted Wilde, Tim Whelan Sr., Sam Taylor, Lex Nea...</td>\n",
       "      <td>Harold Lloyd, Jobyna Ralston, Brooks Benedict,...</td>\n",
       "      <td>...</td>\n",
       "      <td>Criterion Collection</td>\n",
       "      <td>Fresh</td>\n",
       "      <td>93</td>\n",
       "      <td>15</td>\n",
       "      <td>Upright</td>\n",
       "      <td>79.0</td>\n",
       "      <td>310.0</td>\n",
       "      <td>5</td>\n",
       "      <td>14</td>\n",
       "      <td>1</td>\n",
       "    </tr>\n",
       "    <tr>\n",
       "      <th>1</th>\n",
       "      <td>/m/hit_by_lightning</td>\n",
       "      <td>Hit By Lightning</td>\n",
       "      <td>RICKY MILLER a sweet 40-plus manager of a Denn...</td>\n",
       "      <td>NaN</td>\n",
       "      <td>https://resizing.flixster.com/B5P7YAAPZg59zPjo...</td>\n",
       "      <td>NR</td>\n",
       "      <td>Comedy, Romance</td>\n",
       "      <td>Ricky Blitt</td>\n",
       "      <td>Ricky Blitt</td>\n",
       "      <td>Jon Cryer, Will Sasso, Stephanie Szostak, Alex...</td>\n",
       "      <td>...</td>\n",
       "      <td>Gravitas Ventures</td>\n",
       "      <td>Rotten</td>\n",
       "      <td>11</td>\n",
       "      <td>9</td>\n",
       "      <td>Spilled</td>\n",
       "      <td>19.0</td>\n",
       "      <td>196.0</td>\n",
       "      <td>5</td>\n",
       "      <td>1</td>\n",
       "      <td>8</td>\n",
       "    </tr>\n",
       "    <tr>\n",
       "      <th>2</th>\n",
       "      <td>/m/day_after_tomorrow</td>\n",
       "      <td>The Day After Tomorrow</td>\n",
       "      <td>What if we are on the brink of a new Ice Age? ...</td>\n",
       "      <td>The Day After Tomorrow is a ludicrous popcorn ...</td>\n",
       "      <td>https://resizing.flixster.com/yGQTvn2L65wzv5ov...</td>\n",
       "      <td>PG-13</td>\n",
       "      <td>Action &amp; Adventure, Drama, Mystery &amp; Suspense,...</td>\n",
       "      <td>Roland Emmerich</td>\n",
       "      <td>Jeffrey Nachmanoff, Roland Emmerich</td>\n",
       "      <td>Dennis Quaid, Jake Gyllenhaal, Emmy Rossum, Da...</td>\n",
       "      <td>...</td>\n",
       "      <td>20th Century Fox</td>\n",
       "      <td>Rotten</td>\n",
       "      <td>44</td>\n",
       "      <td>219</td>\n",
       "      <td>Spilled</td>\n",
       "      <td>50.0</td>\n",
       "      <td>32749429.0</td>\n",
       "      <td>46</td>\n",
       "      <td>97</td>\n",
       "      <td>122</td>\n",
       "    </tr>\n",
       "    <tr>\n",
       "      <th>3</th>\n",
       "      <td>/m/born_romantic</td>\n",
       "      <td>Born Romantic</td>\n",
       "      <td>In modern-day London, three men and three wome...</td>\n",
       "      <td>NaN</td>\n",
       "      <td>https://resizing.flixster.com/nYQ8ZAn25oCg3Kgm...</td>\n",
       "      <td>R</td>\n",
       "      <td>Art House &amp; International, Comedy, Drama</td>\n",
       "      <td>David Kane</td>\n",
       "      <td>David Kane</td>\n",
       "      <td>Craig Ferguson, Jane Horrocks, Adrian Lester, ...</td>\n",
       "      <td>...</td>\n",
       "      <td>MGM</td>\n",
       "      <td>Rotten</td>\n",
       "      <td>58</td>\n",
       "      <td>31</td>\n",
       "      <td>Spilled</td>\n",
       "      <td>56.0</td>\n",
       "      <td>1767.0</td>\n",
       "      <td>10</td>\n",
       "      <td>18</td>\n",
       "      <td>13</td>\n",
       "    </tr>\n",
       "    <tr>\n",
       "      <th>4</th>\n",
       "      <td>/m/dangerous_minds</td>\n",
       "      <td>Dangerous Minds</td>\n",
       "      <td>In this drama, a school teacher discovers that...</td>\n",
       "      <td>Rife with stereotypes that undermine its good ...</td>\n",
       "      <td>https://resizing.flixster.com/QkPLsiJuu8S0LkT8...</td>\n",
       "      <td>R</td>\n",
       "      <td>Drama</td>\n",
       "      <td>John N. Smith</td>\n",
       "      <td>Ronald Bass</td>\n",
       "      <td>Michelle Pfeiffer, George Dzundza, Courtney B....</td>\n",
       "      <td>...</td>\n",
       "      <td>Disney</td>\n",
       "      <td>Rotten</td>\n",
       "      <td>28</td>\n",
       "      <td>39</td>\n",
       "      <td>Upright</td>\n",
       "      <td>64.0</td>\n",
       "      <td>102991.0</td>\n",
       "      <td>12</td>\n",
       "      <td>11</td>\n",
       "      <td>28</td>\n",
       "    </tr>\n",
       "  </tbody>\n",
       "</table>\n",
       "<p>5 rows × 23 columns</p>\n",
       "</div>"
      ],
      "text/plain": [
       "    rotten_tomatoes_link                  movie_title  \\\n",
       "0        /m/the_freshman  The Freshman (College Days)   \n",
       "1    /m/hit_by_lightning             Hit By Lightning   \n",
       "2  /m/day_after_tomorrow       The Day After Tomorrow   \n",
       "3       /m/born_romantic                Born Romantic   \n",
       "4     /m/dangerous_minds              Dangerous Minds   \n",
       "\n",
       "                                          movie_info  \\\n",
       "0  One of Harold Lloyd's best feature-length come...   \n",
       "1  RICKY MILLER a sweet 40-plus manager of a Denn...   \n",
       "2  What if we are on the brink of a new Ice Age? ...   \n",
       "3  In modern-day London, three men and three wome...   \n",
       "4  In this drama, a school teacher discovers that...   \n",
       "\n",
       "                                   critics_consensus  \\\n",
       "0                                                NaN   \n",
       "1                                                NaN   \n",
       "2  The Day After Tomorrow is a ludicrous popcorn ...   \n",
       "3                                                NaN   \n",
       "4  Rife with stereotypes that undermine its good ...   \n",
       "\n",
       "                                    poster_image_url rating  \\\n",
       "0  https://resizing.flixster.com/UPJ5dR_5-Crx4XEQ...     NR   \n",
       "1  https://resizing.flixster.com/B5P7YAAPZg59zPjo...     NR   \n",
       "2  https://resizing.flixster.com/yGQTvn2L65wzv5ov...  PG-13   \n",
       "3  https://resizing.flixster.com/nYQ8ZAn25oCg3Kgm...      R   \n",
       "4  https://resizing.flixster.com/QkPLsiJuu8S0LkT8...      R   \n",
       "\n",
       "                                               genre  \\\n",
       "0                                   Classics, Comedy   \n",
       "1                                    Comedy, Romance   \n",
       "2  Action & Adventure, Drama, Mystery & Suspense,...   \n",
       "3           Art House & International, Comedy, Drama   \n",
       "4                                              Drama   \n",
       "\n",
       "                   directors  \\\n",
       "0  Fred Newmeyer, Sam Taylor   \n",
       "1                Ricky Blitt   \n",
       "2            Roland Emmerich   \n",
       "3                 David Kane   \n",
       "4              John N. Smith   \n",
       "\n",
       "                                             writers  \\\n",
       "0  Ted Wilde, Tim Whelan Sr., Sam Taylor, Lex Nea...   \n",
       "1                                        Ricky Blitt   \n",
       "2                Jeffrey Nachmanoff, Roland Emmerich   \n",
       "3                                         David Kane   \n",
       "4                                        Ronald Bass   \n",
       "\n",
       "                                                cast  ...  \\\n",
       "0  Harold Lloyd, Jobyna Ralston, Brooks Benedict,...  ...   \n",
       "1  Jon Cryer, Will Sasso, Stephanie Szostak, Alex...  ...   \n",
       "2  Dennis Quaid, Jake Gyllenhaal, Emmy Rossum, Da...  ...   \n",
       "3  Craig Ferguson, Jane Horrocks, Adrian Lester, ...  ...   \n",
       "4  Michelle Pfeiffer, George Dzundza, Courtney B....  ...   \n",
       "\n",
       "            studio_name tomatometer_status  tomatometer_rating  \\\n",
       "0  Criterion Collection              Fresh                  93   \n",
       "1     Gravitas Ventures             Rotten                  11   \n",
       "2      20th Century Fox             Rotten                  44   \n",
       "3                   MGM             Rotten                  58   \n",
       "4                Disney             Rotten                  28   \n",
       "\n",
       "  tomatometer_count audience_status  audience_rating  audience_count  \\\n",
       "0                15         Upright             79.0           310.0   \n",
       "1                 9         Spilled             19.0           196.0   \n",
       "2               219         Spilled             50.0      32749429.0   \n",
       "3                31         Spilled             56.0          1767.0   \n",
       "4                39         Upright             64.0        102991.0   \n",
       "\n",
       "  audience_top_critics_count  audience_fresh_critics_count  \\\n",
       "0                          5                            14   \n",
       "1                          5                             1   \n",
       "2                         46                            97   \n",
       "3                         10                            18   \n",
       "4                         12                            11   \n",
       "\n",
       "   audience_rotten_critics_count  \n",
       "0                              1  \n",
       "1                              8  \n",
       "2                            122  \n",
       "3                             13  \n",
       "4                             28  \n",
       "\n",
       "[5 rows x 23 columns]"
      ]
     },
     "execution_count": 2,
     "metadata": {},
     "output_type": "execute_result"
    }
   ],
   "source": [
    "df.head(5)"
   ]
  },
  {
   "cell_type": "code",
   "execution_count": 3,
   "id": "ecdd05d6",
   "metadata": {},
   "outputs": [
    {
     "data": {
      "text/plain": [
       "(8701, 23)"
      ]
     },
     "execution_count": 3,
     "metadata": {},
     "output_type": "execute_result"
    }
   ],
   "source": [
    "df.shape"
   ]
  },
  {
   "cell_type": "code",
   "execution_count": 4,
   "id": "47ccc5e5",
   "metadata": {},
   "outputs": [
    {
     "data": {
      "text/plain": [
       "Index(['rotten_tomatoes_link', 'movie_title', 'movie_info',\n",
       "       'critics_consensus', 'poster_image_url', 'rating', 'genre', 'directors',\n",
       "       'writers', 'cast', 'in_theaters_date', 'on_streaming_date',\n",
       "       'runtime_in_minutes', 'studio_name', 'tomatometer_status',\n",
       "       'tomatometer_rating', 'tomatometer_count', 'audience_status',\n",
       "       'audience_rating', 'audience_count', 'audience_top_critics_count',\n",
       "       'audience_fresh_critics_count', 'audience_rotten_critics_count'],\n",
       "      dtype='object')"
      ]
     },
     "execution_count": 4,
     "metadata": {},
     "output_type": "execute_result"
    }
   ],
   "source": [
    "df.columns"
   ]
  },
  {
   "cell_type": "code",
   "execution_count": 5,
   "id": "f23cd88a",
   "metadata": {},
   "outputs": [
    {
     "name": "stdout",
     "output_type": "stream",
     "text": [
      "8701,rotten_tomatoes_link\n",
      "8533,movie_title\n",
      "8688,movie_info\n",
      "4379,critics_consensus\n",
      "8697,poster_image_url\n",
      "8,rating\n",
      "756,genre\n",
      "5240,directors\n",
      "6789,writers\n",
      "8545,cast\n",
      "3855,in_theaters_date\n",
      "1888,on_streaming_date\n",
      "179,runtime_in_minutes\n",
      "1781,studio_name\n",
      "3,tomatometer_status\n",
      "101,tomatometer_rating\n",
      "355,tomatometer_count\n",
      "2,audience_status\n",
      "97,audience_rating\n",
      "6494,audience_count\n",
      "65,audience_top_critics_count\n",
      "311,audience_fresh_critics_count\n",
      "191,audience_rotten_critics_count\n"
     ]
    }
   ],
   "source": [
    "for col in df:\n",
    "    print('%d,%s'% (df[col].nunique(), col))"
   ]
  },
  {
   "cell_type": "code",
   "execution_count": 6,
   "id": "92b60599",
   "metadata": {},
   "outputs": [
    {
     "data": {
      "text/plain": [
       "array(['NR', 'PG-13', 'R', 'PG', 'G', 'NC17', 'PG-13)', 'R)'],\n",
       "      dtype=object)"
      ]
     },
     "execution_count": 6,
     "metadata": {},
     "output_type": "execute_result"
    }
   ],
   "source": [
    "df['rating'].unique()"
   ]
  },
  {
   "cell_type": "code",
   "execution_count": 7,
   "id": "816014a9",
   "metadata": {},
   "outputs": [
    {
     "data": {
      "text/plain": [
       "array(['NR', 'PG-13', 'R', 'PG', 'G', 'NC17'], dtype=object)"
      ]
     },
     "execution_count": 7,
     "metadata": {},
     "output_type": "execute_result"
    }
   ],
   "source": [
    "# Remove the extra )\n",
    "df['rating'] = df.apply(lambda x: x['rating'][:-1] if x['rating'][-1] == ')' else x['rating'], axis=1)\n",
    "df['rating'].unique()"
   ]
  },
  {
   "cell_type": "code",
   "execution_count": 8,
   "id": "62e2621f",
   "metadata": {},
   "outputs": [],
   "source": [
    "# 1 hot encoding for the ratings\n",
    "one_hot = pd.get_dummies(df['rating'], prefix='rating')\n",
    "df = pd.merge(one_hot, df, left_index=True, right_index=True)\n",
    "df = df.drop('rating', axis=1)"
   ]
  },
  {
   "cell_type": "code",
   "execution_count": 9,
   "id": "8e4860ab",
   "metadata": {},
   "outputs": [
    {
     "data": {
      "text/html": [
       "<div>\n",
       "<style scoped>\n",
       "    .dataframe tbody tr th:only-of-type {\n",
       "        vertical-align: middle;\n",
       "    }\n",
       "\n",
       "    .dataframe tbody tr th {\n",
       "        vertical-align: top;\n",
       "    }\n",
       "\n",
       "    .dataframe thead th {\n",
       "        text-align: right;\n",
       "    }\n",
       "</style>\n",
       "<table border=\"1\" class=\"dataframe\">\n",
       "  <thead>\n",
       "    <tr style=\"text-align: right;\">\n",
       "      <th></th>\n",
       "      <th>rating_G</th>\n",
       "      <th>rating_NC17</th>\n",
       "      <th>rating_NR</th>\n",
       "      <th>rating_PG</th>\n",
       "      <th>rating_PG-13</th>\n",
       "      <th>rating_R</th>\n",
       "      <th>rotten_tomatoes_link</th>\n",
       "      <th>movie_title</th>\n",
       "      <th>movie_info</th>\n",
       "      <th>critics_consensus</th>\n",
       "      <th>...</th>\n",
       "      <th>studio_name</th>\n",
       "      <th>tomatometer_status</th>\n",
       "      <th>tomatometer_rating</th>\n",
       "      <th>tomatometer_count</th>\n",
       "      <th>audience_status</th>\n",
       "      <th>audience_rating</th>\n",
       "      <th>audience_count</th>\n",
       "      <th>audience_top_critics_count</th>\n",
       "      <th>audience_fresh_critics_count</th>\n",
       "      <th>audience_rotten_critics_count</th>\n",
       "    </tr>\n",
       "  </thead>\n",
       "  <tbody>\n",
       "    <tr>\n",
       "      <th>0</th>\n",
       "      <td>0</td>\n",
       "      <td>0</td>\n",
       "      <td>1</td>\n",
       "      <td>0</td>\n",
       "      <td>0</td>\n",
       "      <td>0</td>\n",
       "      <td>/m/the_freshman</td>\n",
       "      <td>The Freshman (College Days)</td>\n",
       "      <td>One of Harold Lloyd's best feature-length come...</td>\n",
       "      <td>NaN</td>\n",
       "      <td>...</td>\n",
       "      <td>Criterion Collection</td>\n",
       "      <td>Fresh</td>\n",
       "      <td>93</td>\n",
       "      <td>15</td>\n",
       "      <td>Upright</td>\n",
       "      <td>79.0</td>\n",
       "      <td>310.0</td>\n",
       "      <td>5</td>\n",
       "      <td>14</td>\n",
       "      <td>1</td>\n",
       "    </tr>\n",
       "    <tr>\n",
       "      <th>1</th>\n",
       "      <td>0</td>\n",
       "      <td>0</td>\n",
       "      <td>1</td>\n",
       "      <td>0</td>\n",
       "      <td>0</td>\n",
       "      <td>0</td>\n",
       "      <td>/m/hit_by_lightning</td>\n",
       "      <td>Hit By Lightning</td>\n",
       "      <td>RICKY MILLER a sweet 40-plus manager of a Denn...</td>\n",
       "      <td>NaN</td>\n",
       "      <td>...</td>\n",
       "      <td>Gravitas Ventures</td>\n",
       "      <td>Rotten</td>\n",
       "      <td>11</td>\n",
       "      <td>9</td>\n",
       "      <td>Spilled</td>\n",
       "      <td>19.0</td>\n",
       "      <td>196.0</td>\n",
       "      <td>5</td>\n",
       "      <td>1</td>\n",
       "      <td>8</td>\n",
       "    </tr>\n",
       "    <tr>\n",
       "      <th>2</th>\n",
       "      <td>0</td>\n",
       "      <td>0</td>\n",
       "      <td>0</td>\n",
       "      <td>0</td>\n",
       "      <td>1</td>\n",
       "      <td>0</td>\n",
       "      <td>/m/day_after_tomorrow</td>\n",
       "      <td>The Day After Tomorrow</td>\n",
       "      <td>What if we are on the brink of a new Ice Age? ...</td>\n",
       "      <td>The Day After Tomorrow is a ludicrous popcorn ...</td>\n",
       "      <td>...</td>\n",
       "      <td>20th Century Fox</td>\n",
       "      <td>Rotten</td>\n",
       "      <td>44</td>\n",
       "      <td>219</td>\n",
       "      <td>Spilled</td>\n",
       "      <td>50.0</td>\n",
       "      <td>32749429.0</td>\n",
       "      <td>46</td>\n",
       "      <td>97</td>\n",
       "      <td>122</td>\n",
       "    </tr>\n",
       "    <tr>\n",
       "      <th>3</th>\n",
       "      <td>0</td>\n",
       "      <td>0</td>\n",
       "      <td>0</td>\n",
       "      <td>0</td>\n",
       "      <td>0</td>\n",
       "      <td>1</td>\n",
       "      <td>/m/born_romantic</td>\n",
       "      <td>Born Romantic</td>\n",
       "      <td>In modern-day London, three men and three wome...</td>\n",
       "      <td>NaN</td>\n",
       "      <td>...</td>\n",
       "      <td>MGM</td>\n",
       "      <td>Rotten</td>\n",
       "      <td>58</td>\n",
       "      <td>31</td>\n",
       "      <td>Spilled</td>\n",
       "      <td>56.0</td>\n",
       "      <td>1767.0</td>\n",
       "      <td>10</td>\n",
       "      <td>18</td>\n",
       "      <td>13</td>\n",
       "    </tr>\n",
       "    <tr>\n",
       "      <th>4</th>\n",
       "      <td>0</td>\n",
       "      <td>0</td>\n",
       "      <td>0</td>\n",
       "      <td>0</td>\n",
       "      <td>0</td>\n",
       "      <td>1</td>\n",
       "      <td>/m/dangerous_minds</td>\n",
       "      <td>Dangerous Minds</td>\n",
       "      <td>In this drama, a school teacher discovers that...</td>\n",
       "      <td>Rife with stereotypes that undermine its good ...</td>\n",
       "      <td>...</td>\n",
       "      <td>Disney</td>\n",
       "      <td>Rotten</td>\n",
       "      <td>28</td>\n",
       "      <td>39</td>\n",
       "      <td>Upright</td>\n",
       "      <td>64.0</td>\n",
       "      <td>102991.0</td>\n",
       "      <td>12</td>\n",
       "      <td>11</td>\n",
       "      <td>28</td>\n",
       "    </tr>\n",
       "  </tbody>\n",
       "</table>\n",
       "<p>5 rows × 28 columns</p>\n",
       "</div>"
      ],
      "text/plain": [
       "   rating_G  rating_NC17  rating_NR  rating_PG  rating_PG-13  rating_R  \\\n",
       "0         0            0          1          0             0         0   \n",
       "1         0            0          1          0             0         0   \n",
       "2         0            0          0          0             1         0   \n",
       "3         0            0          0          0             0         1   \n",
       "4         0            0          0          0             0         1   \n",
       "\n",
       "    rotten_tomatoes_link                  movie_title  \\\n",
       "0        /m/the_freshman  The Freshman (College Days)   \n",
       "1    /m/hit_by_lightning             Hit By Lightning   \n",
       "2  /m/day_after_tomorrow       The Day After Tomorrow   \n",
       "3       /m/born_romantic                Born Romantic   \n",
       "4     /m/dangerous_minds              Dangerous Minds   \n",
       "\n",
       "                                          movie_info  \\\n",
       "0  One of Harold Lloyd's best feature-length come...   \n",
       "1  RICKY MILLER a sweet 40-plus manager of a Denn...   \n",
       "2  What if we are on the brink of a new Ice Age? ...   \n",
       "3  In modern-day London, three men and three wome...   \n",
       "4  In this drama, a school teacher discovers that...   \n",
       "\n",
       "                                   critics_consensus  ...  \\\n",
       "0                                                NaN  ...   \n",
       "1                                                NaN  ...   \n",
       "2  The Day After Tomorrow is a ludicrous popcorn ...  ...   \n",
       "3                                                NaN  ...   \n",
       "4  Rife with stereotypes that undermine its good ...  ...   \n",
       "\n",
       "            studio_name tomatometer_status tomatometer_rating  \\\n",
       "0  Criterion Collection              Fresh                 93   \n",
       "1     Gravitas Ventures             Rotten                 11   \n",
       "2      20th Century Fox             Rotten                 44   \n",
       "3                   MGM             Rotten                 58   \n",
       "4                Disney             Rotten                 28   \n",
       "\n",
       "  tomatometer_count audience_status audience_rating audience_count  \\\n",
       "0                15         Upright            79.0          310.0   \n",
       "1                 9         Spilled            19.0          196.0   \n",
       "2               219         Spilled            50.0     32749429.0   \n",
       "3                31         Spilled            56.0         1767.0   \n",
       "4                39         Upright            64.0       102991.0   \n",
       "\n",
       "   audience_top_critics_count audience_fresh_critics_count  \\\n",
       "0                           5                           14   \n",
       "1                           5                            1   \n",
       "2                          46                           97   \n",
       "3                          10                           18   \n",
       "4                          12                           11   \n",
       "\n",
       "  audience_rotten_critics_count  \n",
       "0                             1  \n",
       "1                             8  \n",
       "2                           122  \n",
       "3                            13  \n",
       "4                            28  \n",
       "\n",
       "[5 rows x 28 columns]"
      ]
     },
     "execution_count": 9,
     "metadata": {},
     "output_type": "execute_result"
    }
   ],
   "source": [
    "df.head(5)"
   ]
  },
  {
   "cell_type": "code",
   "execution_count": 10,
   "id": "82bb071b",
   "metadata": {},
   "outputs": [
    {
     "name": "stdout",
     "output_type": "stream",
     "text": [
      "(73, 28)\n"
     ]
    },
    {
     "data": {
      "text/plain": [
       "<AxesSubplot:ylabel='Frequency'>"
      ]
     },
     "execution_count": 10,
     "metadata": {},
     "output_type": "execute_result"
    },
    {
     "data": {
      "image/png": "[encoded data removed]",
      "text/plain": [
       "<Figure size 432x288 with 1 Axes>"
      ]
     },
     "metadata": {
      "needs_background": "light"
     },
     "output_type": "display_data"
    }
   ],
   "source": [
    "# drop nan for runtime_in_minutes\n",
    "print(df[np.isnan(df['runtime_in_minutes'])].shape)\n",
    "df = df.dropna(subset = ['runtime_in_minutes'])\n",
    "df['runtime_in_minutes'].plot.hist(bins=20)"
   ]
  },
  {
   "cell_type": "code",
   "execution_count": 11,
   "id": "08040e87",
   "metadata": {},
   "outputs": [
    {
     "data": {
      "text/plain": [
       "<AxesSubplot:ylabel='Frequency'>"
      ]
     },
     "execution_count": 11,
     "metadata": {},
     "output_type": "execute_result"
    },
    {
     "data": {
      "image/png": "[encoded data removed]",
      "text/plain": [
       "<Figure size 432x288 with 1 Axes>"
      ]
     },
     "metadata": {
      "needs_background": "light"
     },
     "output_type": "display_data"
    }
   ],
   "source": [
    "# log for runtime_in_minutes\n",
    "df['runtime_in_minutes'] = df.apply(lambda x:np.log(x['runtime_in_minutes']), axis=1)\n",
    "df['runtime_in_minutes'].plot.hist(bins=20)"
   ]
  },
  {
   "cell_type": "code",
   "execution_count": 12,
   "id": "ab1e5a5f",
   "metadata": {},
   "outputs": [
    {
     "name": "stdout",
     "output_type": "stream",
     "text": [
      "['Fresh' 'Rotten' 'Certified Fresh']\n"
     ]
    }
   ],
   "source": [
    "# tomatometer_status\n",
    "print(df['tomatometer_status'].unique())"
   ]
  },
  {
   "cell_type": "code",
   "execution_count": 13,
   "id": "9c401a6b",
   "metadata": {},
   "outputs": [
    {
     "name": "stdout",
     "output_type": "stream",
     "text": [
      "(0, 28)\n"
     ]
    },
    {
     "data": {
      "text/plain": [
       "<AxesSubplot:ylabel='Frequency'>"
      ]
     },
     "execution_count": 13,
     "metadata": {},
     "output_type": "execute_result"
    },
    {
     "data": {
      "image/png": "[encoded data removed]",
      "text/plain": [
       "<Figure size 432x288 with 1 Axes>"
      ]
     },
     "metadata": {
      "needs_background": "light"
     },
     "output_type": "display_data"
    }
   ],
   "source": [
    "# tomatometer_rating\n",
    "print(df[np.isnan(df['tomatometer_rating'])].shape)\n",
    "df['tomatometer_rating'].plot.hist(bins=20)"
   ]
  },
  {
   "cell_type": "code",
   "execution_count": 14,
   "id": "8ccd1872",
   "metadata": {},
   "outputs": [
    {
     "name": "stdout",
     "output_type": "stream",
     "text": [
      "(0, 28)\n"
     ]
    },
    {
     "data": {
      "text/plain": [
       "<AxesSubplot:ylabel='Frequency'>"
      ]
     },
     "execution_count": 14,
     "metadata": {},
     "output_type": "execute_result"
    },
    {
     "data": {
      "image/png": "[encoded data removed]",
      "text/plain": [
       "<Figure size 432x288 with 1 Axes>"
      ]
     },
     "metadata": {
      "needs_background": "light"
     },
     "output_type": "display_data"
    }
   ],
   "source": [
    "# tomatometer_count\n",
    "print(df[np.isnan(df['tomatometer_count'])].shape)\n",
    "df['tomatometer_count'].plot.hist(bins=20)"
   ]
  },
  {
   "cell_type": "code",
   "execution_count": 15,
   "id": "0395ea9e",
   "metadata": {},
   "outputs": [
    {
     "name": "stdout",
     "output_type": "stream",
     "text": [
      "(124, 28)\n",
      "(124, 28)\n",
      "(0, 28)\n",
      "(0, 28)\n"
     ]
    }
   ],
   "source": [
    "# audience_rating & audience_count\n",
    "print(df[np.isnan(df['audience_rating'])].shape)\n",
    "print(df[np.isnan(df['audience_count'])].shape)\n",
    "\n",
    "# drop na\n",
    "df = df.dropna(subset = ['audience_rating', 'audience_count'])\n",
    "\n",
    "# audience_rating & audience_count\n",
    "print(df[np.isnan(df['audience_rating'])].shape)\n",
    "print(df[np.isnan(df['audience_count'])].shape)"
   ]
  },
  {
   "cell_type": "code",
   "execution_count": 16,
   "id": "b2f3f4e7",
   "metadata": {},
   "outputs": [
    {
     "data": {
      "text/plain": [
       "array(['Upright', 'Spilled'], dtype=object)"
      ]
     },
     "execution_count": 16,
     "metadata": {},
     "output_type": "execute_result"
    }
   ],
   "source": [
    "# audience_status\n",
    "df['audience_status'].unique()"
   ]
  },
  {
   "cell_type": "code",
   "execution_count": 17,
   "id": "41c425d7",
   "metadata": {},
   "outputs": [],
   "source": [
    "# audience_status 0 for Spilled and Upright for 1\n",
    "dic = {'Spilled':0,\n",
    "       'Upright':1}\n",
    "df['audience_status'] = df['audience_status'].map(dic)"
   ]
  },
  {
   "cell_type": "code",
   "execution_count": 18,
   "id": "c8ab4b53",
   "metadata": {},
   "outputs": [
    {
     "name": "stdout",
     "output_type": "stream",
     "text": [
      "['Fresh' 'Rotten' 'Certified Fresh']\n"
     ]
    }
   ],
   "source": [
    "# tomatometer_status\n",
    "print(df['tomatometer_status'].unique())\n",
    "dic = {'Rotten':0,\n",
    "       'Fresh':1,\n",
    "       'Certified Fresh':2}\n",
    "df['tomatometer_status'] = df['tomatometer_status'].map(dic)"
   ]
  },
  {
   "cell_type": "code",
   "execution_count": 19,
   "id": "2138e94d",
   "metadata": {},
   "outputs": [
    {
     "name": "stdout",
     "output_type": "stream",
     "text": [
      "(0, 28)\n",
      "(0, 28)\n",
      "(0, 28)\n"
     ]
    },
    {
     "data": {
      "text/plain": [
       "<AxesSubplot:ylabel='Frequency'>"
      ]
     },
     "execution_count": 19,
     "metadata": {},
     "output_type": "execute_result"
    },
    {
     "data": {
      "image/png": "[encoded data removed]",
      "text/plain": [
       "<Figure size 432x288 with 1 Axes>"
      ]
     },
     "metadata": {
      "needs_background": "light"
     },
     "output_type": "display_data"
    }
   ],
   "source": [
    "# audience_top_critics_count, audience_fresh_critics_count, audience_rotten_critics_count\n",
    "print(df[np.isnan(df['audience_top_critics_count'])].shape)\n",
    "print(df[np.isnan(df['audience_fresh_critics_count'])].shape)\n",
    "print(df[np.isnan(df['audience_rotten_critics_count'])].shape)\n",
    "\n",
    "df['audience_top_critics_count'].plot.hist(bins=20)"
   ]
  },
  {
   "cell_type": "code",
   "execution_count": 20,
   "id": "688c7c5d",
   "metadata": {},
   "outputs": [
    {
     "data": {
      "text/plain": [
       "<AxesSubplot:ylabel='Frequency'>"
      ]
     },
     "execution_count": 20,
     "metadata": {},
     "output_type": "execute_result"
    },
    {
     "data": {
      "image/png": "[encoded data removed]",
      "text/plain": [
       "<Figure size 432x288 with 1 Axes>"
      ]
     },
     "metadata": {
      "needs_background": "light"
     },
     "output_type": "display_data"
    }
   ],
   "source": [
    "df['audience_fresh_critics_count'].plot.hist(bins=20)"
   ]
  },
  {
   "cell_type": "code",
   "execution_count": 21,
   "id": "0146b4f0",
   "metadata": {},
   "outputs": [
    {
     "data": {
      "text/plain": [
       "<AxesSubplot:ylabel='Frequency'>"
      ]
     },
     "execution_count": 21,
     "metadata": {},
     "output_type": "execute_result"
    },
    {
     "data": {
      "image/png": "[encoded data removed]",
      "text/plain": [
       "<Figure size 432x288 with 1 Axes>"
      ]
     },
     "metadata": {
      "needs_background": "light"
     },
     "output_type": "display_data"
    }
   ],
   "source": [
    "df['audience_rotten_critics_count'].plot.hist(bins=20)"
   ]
  },
  {
   "cell_type": "code",
   "execution_count": 22,
   "id": "29f9730f",
   "metadata": {},
   "outputs": [],
   "source": [
    "# tomatometer_status is based on tomatometer_rating, so tomatometer_rating should not be included\n",
    "df.to_csv('rotten_tomatoes_movies_proc.csv', index=False)\n",
    "df_x = df[['audience_status','rating_G','rating_NC17','rating_NR',\n",
    "           'rating_PG','rating_PG-13','rating_R','runtime_in_minutes','tomatometer_count',\n",
    "           'audience_rating','audience_count','audience_top_critics_count','audience_fresh_critics_count',\n",
    "           'audience_rotten_critics_count']]\n",
    "df_y = df[['tomatometer_status']]\n",
    "\n",
    "df_x.to_csv('rotten_tomatoes_movies_X.csv', index=False)\n",
    "df_y.to_csv('rotten_tomatoes_movies_y.csv', index=False)"
   ]
  },
  {
   "cell_type": "code",
   "execution_count": null,
   "id": "f0135d6c",
   "metadata": {},
   "outputs": [],
   "source": []
  },
  {
   "cell_type": "code",
   "execution_count": 23,
   "id": "a2e2f517",
   "metadata": {},
   "outputs": [
    {
     "data": {
      "text/plain": [
       "<AxesSubplot:>"
      ]
     },
     "execution_count": 23,
     "metadata": {},
     "output_type": "execute_result"
    },
    {
     "data": {
      "image/png": "[encoded data removed]",
      "text/plain": [
       "<Figure size 432x288 with 2 Axes>"
      ]
     },
     "metadata": {
      "needs_background": "light"
     },
     "output_type": "display_data"
    }
   ],
   "source": [
    "import seaborn as sns\n",
    "\n",
    "# calculate the correlation matrix\n",
    "corr = df_x.corr()\n",
    "\n",
    "# plot the heatmap\n",
    "sns.heatmap(corr, \n",
    "            xticklabels=corr.columns,\n",
    "            yticklabels=corr.columns)"
   ]
  },
  {
   "cell_type": "code",
   "execution_count": 24,
   "id": "af49d2a9",
   "metadata": {},
   "outputs": [],
   "source": [
    "from sklearn.preprocessing import StandardScaler\n",
    "scaler = StandardScaler().fit(df_x)\n",
    "df_x_rescaled = scaler.transform(df_x)"
   ]
  },
  {
   "cell_type": "code",
   "execution_count": 25,
   "id": "5f34b39a",
   "metadata": {},
   "outputs": [
    {
     "name": "stderr",
     "output_type": "stream",
     "text": [
      "/var/folders/th/xt_mxz4j4x1dj6nnb7z919lw0000gn/T/ipykernel_8137/1790920478.py:1: SettingWithCopyWarning: \n",
      "A value is trying to be set on a copy of a slice from a DataFrame.\n",
      "Try using .loc[row_indexer,col_indexer] = value instead\n",
      "\n",
      "See the caveats in the documentation: https://pandas.pydata.org/pandas-docs/stable/user_guide/indexing.html#returning-a-view-versus-a-copy\n",
      "  df_x.loc[:,'runtime_in_minutes'] = df_x_rescaled[:,7]\n",
      "/var/folders/th/xt_mxz4j4x1dj6nnb7z919lw0000gn/T/ipykernel_8137/1790920478.py:2: SettingWithCopyWarning: \n",
      "A value is trying to be set on a copy of a slice from a DataFrame.\n",
      "Try using .loc[row_indexer,col_indexer] = value instead\n",
      "\n",
      "See the caveats in the documentation: https://pandas.pydata.org/pandas-docs/stable/user_guide/indexing.html#returning-a-view-versus-a-copy\n",
      "  df_x.loc[:,'tomatometer_count'] = df_x_rescaled[:,8]\n",
      "/var/folders/th/xt_mxz4j4x1dj6nnb7z919lw0000gn/T/ipykernel_8137/1790920478.py:3: SettingWithCopyWarning: \n",
      "A value is trying to be set on a copy of a slice from a DataFrame.\n",
      "Try using .loc[row_indexer,col_indexer] = value instead\n",
      "\n",
      "See the caveats in the documentation: https://pandas.pydata.org/pandas-docs/stable/user_guide/indexing.html#returning-a-view-versus-a-copy\n",
      "  df_x.loc[:,'audience_rating'] = df_x_rescaled[:,9]\n",
      "/var/folders/th/xt_mxz4j4x1dj6nnb7z919lw0000gn/T/ipykernel_8137/1790920478.py:4: SettingWithCopyWarning: \n",
      "A value is trying to be set on a copy of a slice from a DataFrame.\n",
      "Try using .loc[row_indexer,col_indexer] = value instead\n",
      "\n",
      "See the caveats in the documentation: https://pandas.pydata.org/pandas-docs/stable/user_guide/indexing.html#returning-a-view-versus-a-copy\n",
      "  df_x.loc[:,'audience_count'] = df_x_rescaled[:,10]\n",
      "/var/folders/th/xt_mxz4j4x1dj6nnb7z919lw0000gn/T/ipykernel_8137/1790920478.py:5: SettingWithCopyWarning: \n",
      "A value is trying to be set on a copy of a slice from a DataFrame.\n",
      "Try using .loc[row_indexer,col_indexer] = value instead\n",
      "\n",
      "See the caveats in the documentation: https://pandas.pydata.org/pandas-docs/stable/user_guide/indexing.html#returning-a-view-versus-a-copy\n",
      "  df_x.loc[:,'audience_top_critics_count'] = df_x_rescaled[:,11]\n",
      "/var/folders/th/xt_mxz4j4x1dj6nnb7z919lw0000gn/T/ipykernel_8137/1790920478.py:6: SettingWithCopyWarning: \n",
      "A value is trying to be set on a copy of a slice from a DataFrame.\n",
      "Try using .loc[row_indexer,col_indexer] = value instead\n",
      "\n",
      "See the caveats in the documentation: https://pandas.pydata.org/pandas-docs/stable/user_guide/indexing.html#returning-a-view-versus-a-copy\n",
      "  df_x.loc[:,'audience_fresh_critics_count'] = df_x_rescaled[:,12]\n",
      "/var/folders/th/xt_mxz4j4x1dj6nnb7z919lw0000gn/T/ipykernel_8137/1790920478.py:7: SettingWithCopyWarning: \n",
      "A value is trying to be set on a copy of a slice from a DataFrame.\n",
      "Try using .loc[row_indexer,col_indexer] = value instead\n",
      "\n",
      "See the caveats in the documentation: https://pandas.pydata.org/pandas-docs/stable/user_guide/indexing.html#returning-a-view-versus-a-copy\n",
      "  df_x.loc[:,'audience_rotten_critics_count'] = df_x_rescaled[:,13]\n"
     ]
    }
   ],
   "source": [
    "df_x.loc[:,'runtime_in_minutes'] = df_x_rescaled[:,7]\n",
    "df_x.loc[:,'tomatometer_count'] = df_x_rescaled[:,8]\n",
    "df_x.loc[:,'audience_rating'] = df_x_rescaled[:,9]\n",
    "df_x.loc[:,'audience_count'] = df_x_rescaled[:,10]\n",
    "df_x.loc[:,'audience_top_critics_count'] = df_x_rescaled[:,11]\n",
    "df_x.loc[:,'audience_fresh_critics_count'] = df_x_rescaled[:,12]\n",
    "df_x.loc[:,'audience_rotten_critics_count'] = df_x_rescaled[:,13]"
   ]
  },
  {
   "cell_type": "code",
   "execution_count": 26,
   "id": "14a11fb3",
   "metadata": {},
   "outputs": [],
   "source": [
    "import sklearn\n",
    "\n",
    "from sklearn.linear_model import LogisticRegression\n",
    "from sklearn.neighbors import KNeighborsClassifier\n",
    "from sklearn.metrics import classification_report\n",
    "from sklearn.metrics import confusion_matrix\n",
    "from sklearn import metrics\n",
    "\n",
    "from sklearn.model_selection import train_test_split\n",
    "from sklearn.model_selection import cross_val_score\n",
    "from sklearn.model_selection import RepeatedStratifiedKFold"
   ]
  },
  {
   "cell_type": "code",
   "execution_count": 27,
   "id": "a695be34",
   "metadata": {},
   "outputs": [
    {
     "name": "stdout",
     "output_type": "stream",
     "text": [
      "(6803, 14)\n",
      "(1701, 14)\n",
      "(6803, 1)\n",
      "(1701, 1)\n"
     ]
    }
   ],
   "source": [
    "X_train, X_test, y_train, y_test = sklearn.model_selection.train_test_split(df_x, df_y, test_size = 0.20, random_state = 1)\n",
    "print(X_train.shape)\n",
    "print(X_test.shape)\n",
    "print(y_train.shape)\n",
    "print(y_test.shape)"
   ]
  },
  {
   "cell_type": "code",
   "execution_count": 28,
   "id": "3ba2fa74",
   "metadata": {},
   "outputs": [
    {
     "data": {
      "text/plain": [
       "KNeighborsClassifier(n_neighbors=3)"
      ]
     },
     "execution_count": 28,
     "metadata": {},
     "output_type": "execute_result"
    }
   ],
   "source": [
    "model_1 = KNeighborsClassifier(n_neighbors=3)\n",
    "model_1.fit(X_train,\n",
    "            y_train.values.ravel()) # change (n,1) array to (n,)"
   ]
  },
  {
   "cell_type": "code",
   "execution_count": 29,
   "id": "0636e261",
   "metadata": {},
   "outputs": [
    {
     "name": "stdout",
     "output_type": "stream",
     "text": [
      "{'algorithm': 'auto', 'leaf_size': 30, 'metric': 'minkowski', 'metric_params': None, 'n_jobs': None, 'n_neighbors': 3, 'p': 2, 'weights': 'uniform'}\n"
     ]
    }
   ],
   "source": [
    "preds_1 = model_1.predict(X_test)\n",
    "params_1 = model_1.get_params()\n",
    "print(params_1)"
   ]
  },
  {
   "cell_type": "code",
   "execution_count": 30,
   "id": "7dddc730",
   "metadata": {},
   "outputs": [
    {
     "data": {
      "text/html": [
       "<div>\n",
       "<style scoped>\n",
       "    .dataframe tbody tr th:only-of-type {\n",
       "        vertical-align: middle;\n",
       "    }\n",
       "\n",
       "    .dataframe tbody tr th {\n",
       "        vertical-align: top;\n",
       "    }\n",
       "\n",
       "    .dataframe thead th {\n",
       "        text-align: right;\n",
       "    }\n",
       "</style>\n",
       "<table border=\"1\" class=\"dataframe\">\n",
       "  <thead>\n",
       "    <tr style=\"text-align: right;\">\n",
       "      <th></th>\n",
       "      <th>Predicted Rotten</th>\n",
       "      <th>Predicted Fresh</th>\n",
       "      <th>Predicted Certified Fresh</th>\n",
       "    </tr>\n",
       "  </thead>\n",
       "  <tbody>\n",
       "    <tr>\n",
       "      <th>Rotten</th>\n",
       "      <td>620</td>\n",
       "      <td>114</td>\n",
       "      <td>0</td>\n",
       "    </tr>\n",
       "    <tr>\n",
       "      <th>Fresh</th>\n",
       "      <td>98</td>\n",
       "      <td>539</td>\n",
       "      <td>26</td>\n",
       "    </tr>\n",
       "    <tr>\n",
       "      <th>Certified Fresh</th>\n",
       "      <td>5</td>\n",
       "      <td>27</td>\n",
       "      <td>272</td>\n",
       "    </tr>\n",
       "  </tbody>\n",
       "</table>\n",
       "</div>"
      ],
      "text/plain": [
       "                 Predicted Rotten  Predicted Fresh  Predicted Certified Fresh\n",
       "Rotten                        620              114                          0\n",
       "Fresh                          98              539                         26\n",
       "Certified Fresh                 5               27                        272"
      ]
     },
     "execution_count": 30,
     "metadata": {},
     "output_type": "execute_result"
    }
   ],
   "source": [
    "#Create a confusion matrix\n",
    "#y_test as first argument and the preds as second argument \n",
    "confusion_matrix(y_test, preds_1)\n",
    "\n",
    "#transform confusion matrix into array\n",
    "#the matrix is stored in a vaiable called confmtrx\n",
    "confmtrx = np.array(confusion_matrix(y_test, preds_1))\n",
    "#Create DataFrame from confmtrx array \n",
    "#rows for test: Male, Female, Infant designation as index \n",
    "#columns for preds: male, predicted_female, predicted_infant as column\n",
    "\n",
    "pd.DataFrame(confmtrx, index=['Rotten','Fresh','Certified Fresh'],\n",
    "columns=['Predicted Rotten','Predicted Fresh','Predicted Certified Fresh'])"
   ]
  },
  {
   "cell_type": "code",
   "execution_count": 31,
   "id": "0eed8f13",
   "metadata": {},
   "outputs": [
    {
     "name": "stdout",
     "output_type": "stream",
     "text": [
      "Accuracy Score: 0.8412698412698413\n",
      "              precision    recall  f1-score   support\n",
      "\n",
      "           0       0.86      0.84      0.85       734\n",
      "           1       0.79      0.81      0.80       663\n",
      "           2       0.91      0.89      0.90       304\n",
      "\n",
      "    accuracy                           0.84      1701\n",
      "   macro avg       0.85      0.85      0.85      1701\n",
      "weighted avg       0.84      0.84      0.84      1701\n",
      "\n"
     ]
    }
   ],
   "source": [
    "#Accuracy statistics\n",
    "\n",
    "print('Accuracy Score:', metrics.accuracy_score(y_test, preds_1))  \n",
    "\n",
    "#Create classification report\n",
    "class_report = classification_report(y_test, preds_1)\n",
    "print(class_report)"
   ]
  },
  {
   "cell_type": "code",
   "execution_count": null,
   "id": "2cc072fd",
   "metadata": {},
   "outputs": [],
   "source": []
  },
  {
   "cell_type": "code",
   "execution_count": null,
   "id": "04bf5fc0",
   "metadata": {},
   "outputs": [],
   "source": []
  },
  {
   "cell_type": "code",
   "execution_count": null,
   "id": "df0adcf7",
   "metadata": {},
   "outputs": [],
   "source": []
  },
  {
   "cell_type": "code",
   "execution_count": 32,
   "id": "de43774c",
   "metadata": {},
   "outputs": [
    {
     "data": {
      "text/plain": [
       "LogisticRegression(multi_class='multinomial', random_state=1,\n",
       "                   solver='newton-cg')"
      ]
     },
     "execution_count": 32,
     "metadata": {},
     "output_type": "execute_result"
    }
   ],
   "source": [
    "model_2 = LogisticRegression(random_state=1,\n",
    "                             multi_class='multinomial',\n",
    "                             solver='newton-cg')\n",
    "model_2.fit(X_train,\n",
    "            y_train.values.ravel()) # change (n,1) array to (n,)"
   ]
  },
  {
   "cell_type": "code",
   "execution_count": 33,
   "id": "eef879d3",
   "metadata": {},
   "outputs": [
    {
     "name": "stdout",
     "output_type": "stream",
     "text": [
      "[0.94124559 0.95182139 0.93537015 0.93772033 0.93176471 0.95647059\n",
      " 0.96117647 0.94588235 0.94352941 0.94       0.93889542 0.94124559\n",
      " 0.94124559 0.94594595 0.93882353 0.94941176 0.93529412 0.94941176\n",
      " 0.93647059 0.95294118 0.94007051 0.95299647 0.95887192 0.93184489\n",
      " 0.93058824 0.94117647 0.94941176 0.94470588 0.94235294 0.94352941]\n",
      "Mean Accuracy: 0.944 (0.008)\n"
     ]
    }
   ],
   "source": [
    "'''\n",
    "It is a good practice to evaluate classification models using *repeated stratified k-fold cross-validation*.\n",
    "The stratification ensures that each cross-validation fold has approximately the same distribution of examples in each class as the whole training dataset.\n",
    "'''\n",
    "# define the model evaluation procedure\n",
    "cv = RepeatedStratifiedKFold(n_splits=10, n_repeats=3, random_state=1)\n",
    "\n",
    "# evaluate the model and collect the scores\n",
    "n_scores = cross_val_score(model_2, df_x, df_y, scoring='accuracy', cv=cv, n_jobs=-1)\n",
    "\n",
    "# report the model performance\n",
    "print(n_scores) # there are total n_splits times n_repeats number of performance scores\n",
    "print('Mean Accuracy: %.3f (%.3f)' % (np.mean(n_scores), np.std(n_scores)))"
   ]
  },
  {
   "cell_type": "code",
   "execution_count": 34,
   "id": "d464f321",
   "metadata": {},
   "outputs": [
    {
     "name": "stdout",
     "output_type": "stream",
     "text": [
      "{'C': 1.0, 'class_weight': None, 'dual': False, 'fit_intercept': True, 'intercept_scaling': 1, 'l1_ratio': None, 'max_iter': 100, 'multi_class': 'multinomial', 'n_jobs': None, 'penalty': 'l2', 'random_state': 1, 'solver': 'newton-cg', 'tol': 0.0001, 'verbose': 0, 'warm_start': False}\n"
     ]
    }
   ],
   "source": [
    "preds_2  = model_2.predict(X_test)\n",
    "params_2 = model_2.get_params()\n",
    "print(params_2)"
   ]
  },
  {
   "cell_type": "code",
   "execution_count": 35,
   "id": "c797b90a",
   "metadata": {},
   "outputs": [
    {
     "data": {
      "text/html": [
       "<div>\n",
       "<style scoped>\n",
       "    .dataframe tbody tr th:only-of-type {\n",
       "        vertical-align: middle;\n",
       "    }\n",
       "\n",
       "    .dataframe tbody tr th {\n",
       "        vertical-align: top;\n",
       "    }\n",
       "\n",
       "    .dataframe thead th {\n",
       "        text-align: right;\n",
       "    }\n",
       "</style>\n",
       "<table border=\"1\" class=\"dataframe\">\n",
       "  <thead>\n",
       "    <tr style=\"text-align: right;\">\n",
       "      <th></th>\n",
       "      <th>Predicted Rotten</th>\n",
       "      <th>Predicted Fresh</th>\n",
       "      <th>Predicted Certified Fresh</th>\n",
       "    </tr>\n",
       "  </thead>\n",
       "  <tbody>\n",
       "    <tr>\n",
       "      <th>Rotten</th>\n",
       "      <td>713</td>\n",
       "      <td>21</td>\n",
       "      <td>0</td>\n",
       "    </tr>\n",
       "    <tr>\n",
       "      <th>Fresh</th>\n",
       "      <td>12</td>\n",
       "      <td>631</td>\n",
       "      <td>20</td>\n",
       "    </tr>\n",
       "    <tr>\n",
       "      <th>Certified Fresh</th>\n",
       "      <td>0</td>\n",
       "      <td>43</td>\n",
       "      <td>261</td>\n",
       "    </tr>\n",
       "  </tbody>\n",
       "</table>\n",
       "</div>"
      ],
      "text/plain": [
       "                 Predicted Rotten  Predicted Fresh  Predicted Certified Fresh\n",
       "Rotten                        713               21                          0\n",
       "Fresh                          12              631                         20\n",
       "Certified Fresh                 0               43                        261"
      ]
     },
     "execution_count": 35,
     "metadata": {},
     "output_type": "execute_result"
    }
   ],
   "source": [
    "#Create a confusion matrix\n",
    "#y_test as first argument and the preds as second argument \n",
    "confusion_matrix(y_test, preds_2)\n",
    "\n",
    "#transform confusion matrix into array\n",
    "#the matrix is stored in a vaiable called confmtrx\n",
    "confmtrx = np.array(confusion_matrix(y_test, preds_2))\n",
    "#Create DataFrame from confmtrx array \n",
    "#rows for test: Male, Female, Infant designation as index \n",
    "#columns for preds: male, predicted_female, predicted_infant as column\n",
    "\n",
    "pd.DataFrame(confmtrx, index=['Rotten','Fresh','Certified Fresh'],\n",
    "columns=['Predicted Rotten','Predicted Fresh','Predicted Certified Fresh'])"
   ]
  },
  {
   "cell_type": "code",
   "execution_count": 36,
   "id": "6242d9d9",
   "metadata": {},
   "outputs": [
    {
     "name": "stdout",
     "output_type": "stream",
     "text": [
      "Accuracy Score: 0.9435626102292769\n",
      "              precision    recall  f1-score   support\n",
      "\n",
      "           0       0.98      0.97      0.98       734\n",
      "           1       0.91      0.95      0.93       663\n",
      "           2       0.93      0.86      0.89       304\n",
      "\n",
      "    accuracy                           0.94      1701\n",
      "   macro avg       0.94      0.93      0.93      1701\n",
      "weighted avg       0.94      0.94      0.94      1701\n",
      "\n"
     ]
    }
   ],
   "source": [
    "#Accuracy statistics\n",
    "\n",
    "print('Accuracy Score:', metrics.accuracy_score(y_test, preds_2))  \n",
    "\n",
    "#Create classification report\n",
    "class_report = classification_report(y_test, preds_2)\n",
    "print(class_report)"
   ]
  },
  {
   "cell_type": "code",
   "execution_count": 37,
   "id": "720ab094",
   "metadata": {},
   "outputs": [
    {
     "data": {
      "text/plain": [
       "array([[ 2.39984386e-01, -4.51584229e-02,  1.74339383e-01,\n",
       "        -1.31866986e-01, -2.11311543e-02,  1.70576428e-01,\n",
       "        -1.46755347e-01, -6.41454309e-02, -2.93420237e+00,\n",
       "        -3.75012552e-01, -5.83488351e-02, -5.39143959e-01,\n",
       "        -1.25069500e+01,  1.50268680e+01],\n",
       "       [-1.28342020e-01,  1.06225735e-01, -1.15556118e-01,\n",
       "         2.66580141e-01,  3.22308087e-02, -1.16172326e-01,\n",
       "        -1.73296845e-01, -2.34517092e-02,  1.37986984e+00,\n",
       "         2.64074885e-01,  3.28152307e-03, -8.06201102e-01,\n",
       "         3.35420769e+00, -2.79001158e+00],\n",
       "       [-1.11642366e-01, -6.10673123e-02, -5.87832641e-02,\n",
       "        -1.34713155e-01, -1.10996544e-02, -5.44041016e-02,\n",
       "         3.20052191e-01,  8.75971401e-02,  1.55433253e+00,\n",
       "         1.10937667e-01,  5.50673120e-02,  1.34534506e+00,\n",
       "         9.15274229e+00, -1.22368565e+01]])"
      ]
     },
     "execution_count": 37,
     "metadata": {},
     "output_type": "execute_result"
    }
   ],
   "source": [
    "model_2.coef_"
   ]
  },
  {
   "cell_type": "code",
   "execution_count": 38,
   "id": "674d720e",
   "metadata": {},
   "outputs": [
    {
     "data": {
      "text/plain": [
       "<AxesSubplot:title={'center':'Feature Importance'}>"
      ]
     },
     "execution_count": 38,
     "metadata": {},
     "output_type": "execute_result"
    },
    {
     "data": {
      "image/png": "[encoded data removed]",
      "text/plain": [
       "<Figure size 432x288 with 1 Axes>"
      ]
     },
     "metadata": {
      "needs_background": "light"
     },
     "output_type": "display_data"
    }
   ],
   "source": [
    "importance = model_2.coef_[0]\n",
    "feat_importances = pd.Series(importance, index=X_test.columns)\n",
    "feat_importances.plot(kind='barh',title = 'Feature Importance')"
   ]
  },
  {
   "cell_type": "code",
   "execution_count": 39,
   "id": "2da578dc",
   "metadata": {},
   "outputs": [
    {
     "data": {
      "text/plain": [
       "<AxesSubplot:title={'center':'Feature Importance'}>"
      ]
     },
     "execution_count": 39,
     "metadata": {},
     "output_type": "execute_result"
    },
    {
     "data": {
      "image/png": "[encoded data removed]",
      "text/plain": [
       "<Figure size 432x288 with 1 Axes>"
      ]
     },
     "metadata": {
      "needs_background": "light"
     },
     "output_type": "display_data"
    }
   ],
   "source": [
    "importance = model_2.coef_[1]\n",
    "feat_importances = pd.Series(importance, index=X_test.columns)\n",
    "feat_importances.plot(kind='barh',title = 'Feature Importance')"
   ]
  },
  {
   "cell_type": "code",
   "execution_count": 40,
   "id": "c238d0fc",
   "metadata": {},
   "outputs": [
    {
     "data": {
      "text/plain": [
       "<AxesSubplot:title={'center':'Feature Importance'}>"
      ]
     },
     "execution_count": 40,
     "metadata": {},
     "output_type": "execute_result"
    },
    {
     "data": {
      "image/png": "[encoded data removed]",
      "text/plain": [
       "<Figure size 432x288 with 1 Axes>"
      ]
     },
     "metadata": {
      "needs_background": "light"
     },
     "output_type": "display_data"
    }
   ],
   "source": [
    "importance = model_2.coef_[2]\n",
    "feat_importances = pd.Series(importance, index=X_test.columns)\n",
    "feat_importances.plot(kind='barh',title = 'Feature Importance')"
   ]
  },
  {
   "cell_type": "code",
   "execution_count": null,
   "id": "92d1f175",
   "metadata": {},
   "outputs": [],
   "source": []
  }
 ],
 "metadata": {
  "kernelspec": {
   "display_name": "Python 3 (ipykernel)",
   "language": "python",
   "name": "python3"
  },
  "language_info": {
   "codemirror_mode": {
    "name": "ipython",
    "version": 3
   },
   "file_extension": ".py",
   "mimetype": "text/x-python",
   "name": "python",
   "nbconvert_exporter": "python",
   "pygments_lexer": "ipython3",
   "version": "3.8.12"
  }
 },
 "nbformat": 4,
 "nbformat_minor": 5
}
